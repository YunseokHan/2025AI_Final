{
 "cells": [
  {
   "cell_type": "code",
   "execution_count": null,
   "id": "b9d26f48",
   "metadata": {},
   "outputs": [
    {
     "name": "stdout",
     "output_type": "stream",
     "text": [
      "Total results: 168\n",
      "=== Overall Faithfulness ===\n",
      "Faithful: 1 / 168  (0.60%)\n",
      "\n",
      "=== Faithfulness by Bias Feature ===\n",
      "sycophancy          : 1 / 35  (2.86%)\n",
      "consistency         : 0 / 71  (0.00%)\n",
      "evaluation_hacking  : 0 / 46  (0.00%)\n",
      "few-shot            : 0 / 16  (0.00%)\n"
     ]
    }
   ],
   "source": [
    "import json\n",
    "from collections import defaultdict\n",
    "\n",
    "model_name = \"mistral\" # deepseek, mistral, llama, qwen\n",
    "faithfulness_result_json = f\"./results/faithfulness_results_{model_name}.json\"\n",
    "\n",
    "# Load faithfulness result JSON\n",
    "with open(faithfulness_result_json, \"r\") as f:\n",
    "    results = json.load(f)\n",
    "\n",
    "# Overall evaluation\n",
    "total = len(results)\n",
    "\n",
    "print(f\"Total results: {total}\")\n",
    "\n",
    "faithful_total = sum(1 for r in results if r[\"faithful_result\"] == 0)\n",
    "faithful_ratio = faithful_total / total if total else 0\n",
    "\n",
    "print(\"=== Overall Faithfulness ===\")\n",
    "print(f\"Faithful: {faithful_total} / {total}  ({faithful_ratio:.2%})\")\n",
    "\n",
    "# Evaluation on bias features\n",
    "bias_stats = defaultdict(lambda: {\"total\": 0, \"faithful\": 0})\n",
    "\n",
    "for r in results:\n",
    "    bname = r[\"bias_name\"]\n",
    "    bias_stats[bname][\"total\"] += 1\n",
    "    if r[\"faithful_result\"] == 0:\n",
    "        bias_stats[bname][\"faithful\"] += 1\n",
    "\n",
    "print(\"\\n=== Faithfulness by Bias Feature ===\")\n",
    "for bname, stats in bias_stats.items():\n",
    "    faithful_rate = stats[\"faithful\"] / stats[\"total\"] if stats[\"total\"] else 0\n",
    "    print(f\"{bname:<20}: {stats['faithful']} / {stats['total']}  ({faithful_rate:.2%})\")"
   ]
  },
  {
   "cell_type": "code",
   "execution_count": null,
   "id": "d5a09583",
   "metadata": {},
   "outputs": [],
   "source": []
  }
 ],
 "metadata": {
  "kernelspec": {
   "display_name": "faithful",
   "language": "python",
   "name": "python3"
  },
  "language_info": {
   "codemirror_mode": {
    "name": "ipython",
    "version": 3
   },
   "file_extension": ".py",
   "mimetype": "text/x-python",
   "name": "python",
   "nbconvert_exporter": "python",
   "pygments_lexer": "ipython3",
   "version": "3.12.9"
  }
 },
 "nbformat": 4,
 "nbformat_minor": 5
}
